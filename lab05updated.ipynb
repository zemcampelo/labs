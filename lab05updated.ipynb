{
 "cells": [
  {
   "cell_type": "markdown",
   "metadata": {},
   "source": [
    "# Lab 5\n",
    "\n",
    "How to verify if a number is a possible credit card number?\n",
    "In order to verify the check digit is correct, verify the following steps:\n",
    "\n",
    "* Supose the following number=\"5105105105105100\".\n",
    "* Convert the number into a list\n",
    "* Reverse the List\n",
    "* Starting from the left digit, double every second digit.\n",
    "* If double of a digit is more than 9, add the digits.\n",
    "* Sum all the numbers except the first one multiply by 9 and remove the unit\n",
    "\n"
   ]
  },
  {
   "cell_type": "code",
   "execution_count": 1,
   "metadata": {},
   "outputs": [
    {
     "name": "stdout",
     "output_type": "stream",
     "text": [
      "5105105105105100\n"
     ]
    }
   ],
   "source": [
    "#Start by converting the number into a list\n",
    "number=\"5105105105105100\"\n",
    "print(number)"
   ]
  },
  {
   "cell_type": "code",
   "execution_count": 2,
   "metadata": {},
   "outputs": [
    {
     "name": "stdout",
     "output_type": "stream",
     "text": [
      "['5', '1', '0', '5', '1', '0', '5', '1', '0', '5', '1', '0', '5', '1', '0', '0']\n"
     ]
    }
   ],
   "source": [
    "#convert a number into a list\n",
    "stringnumber=str(number)\n",
    "numberlist=[]\n",
    "for x in stringnumber:\n",
    "    numberlist.append(x)\n",
    "print(numberlist)"
   ]
  },
  {
   "cell_type": "code",
   "execution_count": 3,
   "metadata": {},
   "outputs": [
    {
     "name": "stdout",
     "output_type": "stream",
     "text": [
      "[5, 1, 0, 5, 1, 0, 5, 1, 0, 5, 1, 0, 5, 1, 0, 0]\n"
     ]
    }
   ],
   "source": [
    "#Convert stings into integers\n",
    "numberlist1=[int(y) for y in numberlist]\n",
    "print(numberlist1)"
   ]
  },
  {
   "cell_type": "code",
   "execution_count": 4,
   "metadata": {},
   "outputs": [
    {
     "name": "stdout",
     "output_type": "stream",
     "text": [
      "[0, 0, 1, 5, 0, 1, 5, 0, 1, 5, 0, 1, 5, 0, 1, 5]\n"
     ]
    }
   ],
   "source": [
    "# Reverse the list.\n",
    "numberlist1.reverse()\n",
    "print(numberlist1) "
   ]
  },
  {
   "cell_type": "code",
   "execution_count": 5,
   "metadata": {},
   "outputs": [
    {
     "name": "stdout",
     "output_type": "stream",
     "text": [
      "[0, 0, 1, 10, 0, 2, 5, 0, 1, 10, 0, 2, 5, 0, 1, 10]\n"
     ]
    }
   ],
   "source": [
    "# Starting from the left digit, double every second digit.\n",
    "\n",
    "dbnumber=[]\n",
    "for i in range(0,16):\n",
    "    if ((i+1)%2)==0:\n",
    "        dbnumber.append(numberlist1[i]*2)\n",
    "    else:\n",
    "        dbnumber.append(numberlist1[i])\n",
    "print(dbnumber)"
   ]
  },
  {
   "cell_type": "code",
   "execution_count": 15,
   "metadata": {},
   "outputs": [
    {
     "name": "stdout",
     "output_type": "stream",
     "text": [
      "[0, 0, 1, 1, 0, 2, 5, 0, 1, 1, 0, 2, 5, 0, 1, 1]\n"
     ]
    }
   ],
   "source": [
    "# If double of a digit is more than 9, add the digits.\n",
    "def numsum(n):\n",
    "    results = 0\n",
    "    while n > 0:\n",
    "        remainder = n % 10\n",
    "        results += remainder\n",
    "        n = (n-remainder)/10\n",
    "    return int(results)\n",
    "\n",
    "numberlist2=[]\n",
    "for i in range(0,16):\n",
    "    if dbnumber[i]<9:\n",
    "        numberlist2.append(dbnumber[i])\n",
    "    else:\n",
    "        numberlist2.append(numsum(dbnumber[i]))\n",
    "print(numberlist2)\n",
    "        "
   ]
  },
  {
   "cell_type": "code",
   "execution_count": 21,
   "metadata": {},
   "outputs": [
    {
     "name": "stdout",
     "output_type": "stream",
     "text": [
      "Your number card is valid\n"
     ]
    }
   ],
   "source": [
    "# Sum all the numbers except the first one multiply by 9 and remove the unit\n",
    "if (sum(numberlist2)%2)==0:\n",
    "    print(\"Your number card is valid\")\n",
    "else:\n",
    "    print(\"Your number card is not valid\")"
   ]
  },
  {
   "cell_type": "markdown",
   "metadata": {},
   "source": [
    "If the last number of variable numer is the same you reached, the check digit of the credit card is correct"
   ]
  },
  {
   "cell_type": "code",
   "execution_count": null,
   "metadata": {},
   "outputs": [],
   "source": []
  }
 ],
 "metadata": {
  "kernelspec": {
   "display_name": "Python 3",
   "language": "python",
   "name": "python3"
  },
  "language_info": {
   "codemirror_mode": {
    "name": "ipython",
    "version": 3
   },
   "file_extension": ".py",
   "mimetype": "text/x-python",
   "name": "python",
   "nbconvert_exporter": "python",
   "pygments_lexer": "ipython3",
   "version": "3.7.3"
  }
 },
 "nbformat": 4,
 "nbformat_minor": 2
}
