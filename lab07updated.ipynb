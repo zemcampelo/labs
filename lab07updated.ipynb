{
 "cells": [
  {
   "cell_type": "markdown",
   "metadata": {},
   "source": [
    "# Lab 7\n",
    "* calculate NPV. The rate is a float and the cash flows and investment are in a list.\n",
    "* create a function called NPV to calculate NPV\n",
    "* create a function to calcule IRR. In order to calculate IRR you may aproximate the follwoing expression:\n",
    "rate= rate*(1-NPV(CFList, rate)/invest)\n",
    "* create a function for payback period"
   ]
  },
  {
   "cell_type": "code",
   "execution_count": 12,
   "metadata": {},
   "outputs": [],
   "source": [
    "#Supose you have the follwoing cashflow\n",
    "CFList=[-1000, 200, 200, 300, 500]\n",
    "rate= 0.04"
   ]
  },
  {
   "cell_type": "code",
   "execution_count": 13,
   "metadata": {},
   "outputs": [
    {
     "name": "stdout",
     "output_type": "stream",
     "text": [
      "[-1000.0, 192.3076923076923, 184.91124260355028, 266.69890760127447, 427.4020955148628]\n"
     ]
    }
   ],
   "source": [
    "NPVList=[]\n",
    "for i in range(0,len(CFList)):\n",
    "    value=CFList[i]/((1+rate)**(i))\n",
    "    NPVList.append(value)\n",
    "print(NPVList)"
   ]
  },
  {
   "cell_type": "code",
   "execution_count": 14,
   "metadata": {},
   "outputs": [
    {
     "name": "stdout",
     "output_type": "stream",
     "text": [
      "71.3199380273798\n"
     ]
    }
   ],
   "source": [
    "NPV=sum(NPVList)\n",
    "print(NPV)"
   ]
  },
  {
   "cell_type": "code",
   "execution_count": 15,
   "metadata": {},
   "outputs": [],
   "source": [
    "def NPV(Cashflows,Rate):\n",
    "    NPVlist=[]\n",
    "    for i in range(0,len(Cashflows)):\n",
    "        value1=Cashflows[i]/((1+Rate)**(i))\n",
    "        NPVlist.append(value1)\n",
    "    return sum(NPVlist)"
   ]
  },
  {
   "cell_type": "code",
   "execution_count": 16,
   "metadata": {},
   "outputs": [
    {
     "name": "stdout",
     "output_type": "stream",
     "text": [
      "71.3199380273798\n"
     ]
    }
   ],
   "source": [
    "print(NPV(CFList, rate))"
   ]
  },
  {
   "cell_type": "code",
   "execution_count": 17,
   "metadata": {},
   "outputs": [],
   "source": [
    "def irr(Cashflows):\n",
    "    invest=Cashflows[0]\n",
    "    Rate= rate*(invest-NPV(Cashflows, rate))/invest\n",
    "    return Rate"
   ]
  },
  {
   "cell_type": "code",
   "execution_count": 18,
   "metadata": {},
   "outputs": [
    {
     "name": "stdout",
     "output_type": "stream",
     "text": [
      "0.04285279752109519\n"
     ]
    }
   ],
   "source": [
    "print(irr(CFList))"
   ]
  },
  {
   "cell_type": "code",
   "execution_count": 38,
   "metadata": {},
   "outputs": [],
   "source": [
    "def cumsum(Cashflows):\n",
    "    total = 0\n",
    "    for x in Cashflows:\n",
    "        total += x\n",
    "        return total\n",
    "\n",
    "def payback(Cashflows):\n",
    "        for i in range(0,len(Cashflows)):\n",
    "            if (cumsum(Cashflows))<0:\n",
    "                continue\n",
    "            else:\n",
    "                print(i+1)\n",
    "        return (i+(i+1))/2\n",
    "            \n",
    "        "
   ]
  },
  {
   "cell_type": "code",
   "execution_count": 39,
   "metadata": {},
   "outputs": [
    {
     "data": {
      "text/plain": [
       "4.5"
      ]
     },
     "execution_count": 39,
     "metadata": {},
     "output_type": "execute_result"
    }
   ],
   "source": [
    "payback(CFList)"
   ]
  },
  {
   "cell_type": "code",
   "execution_count": null,
   "metadata": {},
   "outputs": [],
   "source": []
  }
 ],
 "metadata": {
  "kernelspec": {
   "display_name": "Python 3",
   "language": "python",
   "name": "python3"
  },
  "language_info": {
   "codemirror_mode": {
    "name": "ipython",
    "version": 3
   },
   "file_extension": ".py",
   "mimetype": "text/x-python",
   "name": "python",
   "nbconvert_exporter": "python",
   "pygments_lexer": "ipython3",
   "version": "3.7.4"
  }
 },
 "nbformat": 4,
 "nbformat_minor": 2
}
