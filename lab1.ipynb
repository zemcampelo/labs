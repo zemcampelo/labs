{
 "cells": [
  {
   "cell_type": "code",
   "execution_count": null,
   "metadata": {},
   "outputs": [],
   "source": [
    "#1) Verify if a value is integer\n",
    "\n",
    "n=5\n",
    "n == int(n)\n"
   ]
  },
  {
   "cell_type": "code",
   "execution_count": null,
   "metadata": {},
   "outputs": [],
   "source": [
    "#2) Verify if a value is even\n",
    "\n",
    "n = int(input(\"Enter a certain integer: \"))\n",
    "\n",
    "if(n % 2):\n",
    "    print(\"The integer is odd\")\n",
    "else:\n",
    "    print(\"The integer is even\")\n",
    "    "
   ]
  },
  {
   "cell_type": "code",
   "execution_count": null,
   "metadata": {},
   "outputs": [],
   "source": [
    "#3) Insert two numbers. Is the first bigger than the second?\n",
    "\n",
    "n1=int(input(\"Enter your first number: \"))     \n",
    "n2=int(input(\"Enter your second number: \"))\n",
    "\n",
    "if (n1>n2):\n",
    "    print (\"The first number is bigger than the second one!\")\n",
    "else:\n",
    "    print (\"The second number is bigger than the first one!\")\n",
    "    "
   ]
  },
  {
   "cell_type": "code",
   "execution_count": null,
   "metadata": {},
   "outputs": [],
   "source": [
    "#4) Verify if one value is multiple of another\n",
    "\n",
    "n1=int(input(\"Enter your first number: \"))       \n",
    "n2=int(input(\"Enter your second number: \"))\n",
    "\n",
    "if(n1 % n2 ==0 ):\n",
    "    print(\"They are multiple\")\n",
    "else:\n",
    "    print(\"They are not multiple\")\n"
   ]
  },
  {
   "cell_type": "code",
   "execution_count": null,
   "metadata": {},
   "outputs": [],
   "source": [
    "#5) Calculate the interest earn by an investor that invested a capital of 200 during 3 years with an interest rate of 3%. (I= P*R*T)\n",
    "\n",
    "p=200\n",
    "r=0.03\n",
    "t=3\n",
    "\n",
    "I=p*r*t\n",
    "\n",
    "print (I)"
   ]
  },
  {
   "cell_type": "code",
   "execution_count": null,
   "metadata": {},
   "outputs": [],
   "source": [
    "#6) Capital that an investor obtained after investing a capital of 200 during 3 years with an interest rate of 3%. (Compound interest)\n",
    "\n",
    "p=200\n",
    "r=0.03\n",
    "t=3\n",
    "\n",
    "I=p*((1+r)**t)\n",
    "\n",
    "print (I)"
   ]
  },
  {
   "cell_type": "code",
   "execution_count": null,
   "metadata": {},
   "outputs": [],
   "source": [
    "#7) Calculate your BMI (Body Mass Index)\n",
    "\n",
    "m=65 #mass(kg)\n",
    "h=1.72 #height(m)\n",
    "\n",
    "BMI=m/(h**2)\n",
    "\n",
    "print(BMI)\n"
   ]
  },
  {
   "cell_type": "code",
   "execution_count": null,
   "metadata": {},
   "outputs": [],
   "source": [
    "#8) Calcule the Golden ration\n",
    "\n"
   ]
  },
  {
   "cell_type": "code",
   "execution_count": 2,
   "metadata": {},
   "outputs": [
    {
     "name": "stdout",
     "output_type": "stream",
     "text": [
      "3139.440301519393\n"
     ]
    }
   ],
   "source": [
    "#9) Calculete the NPV (Net present value) of an investment, considering an initial investment of 10000, the following Cashflows 2000,3000, 4000, 4000 and 5000 and a discount rate of 10%.\n",
    "\n",
    "I=10000\n",
    "k=0.1\n",
    "CF1=2000/(1+k)\n",
    "CF2=3000/((1+k)**2)\n",
    "CF3=4000/((1+k)**3)\n",
    "CF4=4000/((1+k)**4)\n",
    "CF5=5000/((1+k)**5)\n",
    "\n",
    "cashflows = [CF1,CF2,CF3,CF4,CF5]\n",
    "\n",
    "Sum=sum(cashflows)\n",
    "NPV=Sum-I\n",
    "\n",
    "print(NPV)\n",
    "\n"
   ]
  },
  {
   "cell_type": "code",
   "execution_count": 8,
   "metadata": {},
   "outputs": [
    {
     "name": "stdout",
     "output_type": "stream",
     "text": [
      "What's your name? k\n",
      "how old are you? 24\n"
     ]
    },
    {
     "data": {
      "text/plain": [
       "2019"
      ]
     },
     "execution_count": 8,
     "metadata": {},
     "output_type": "execute_result"
    }
   ],
   "source": [
    "#10) Ask the user to insert name and age. Calculate the birth. Print a result saying the 'this person was born in'\n",
    "\n",
    "name = (input(\"What's your name? \"))\n",
    "age = int(input(\"how old are you? \"))\n",
    "\n",
    "from datetime import date   \n",
    "today = date.today()   \n",
    "today.year\n",
    "\n",
    "\n"
   ]
  },
  {
   "cell_type": "code",
   "execution_count": null,
   "metadata": {},
   "outputs": [],
   "source": [
    "#11) Ask the user to insert forenames, surnames. create a new variable (name) with your complete name.\n",
    "\n",
    "firstname = (input(\"What's your name? \"))\n",
    "surname = (input(\"What's your surname? \"))\n",
    "\n",
    "fullname = firstname + \" \" + surname\n",
    "\n",
    "\n",
    "nameBig = fullname.upper() #where all the characters of the name are capitalized \n",
    "nameTitle = fullname.title() #where the only the first character of each name (word) is capitalized \n",
    "nameSmall = fullname.lower() #where all the characters of the name are lower \n",
    "nameCapitalized = fullname.capitalize() #where only the first charater of the first name is capitalized\n",
    "\n",
    "print(nameBig)\n",
    "print(nameTitle)\n",
    "print(nameSmall)\n",
    "print(nameCapitalized)"
   ]
  },
  {
   "cell_type": "code",
   "execution_count": null,
   "metadata": {},
   "outputs": [],
   "source": [
    "#12) Use the follwoing method to show where in which carater appears the firs \"da\"\n",
    "\n",
    "str.find(sub,start,end)\n",
    "\n"
   ]
  }
 ],
 "metadata": {
  "kernelspec": {
   "display_name": "Python 3",
   "language": "python",
   "name": "python3"
  }
 },
 "nbformat": 4,
 "nbformat_minor": 2
}
