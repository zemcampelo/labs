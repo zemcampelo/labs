{
 "cells": [
  {
   "cell_type": "markdown",
   "metadata": {},
   "source": [
    "# Regression Analysis\n",
    "\n",
    "Suppose you have dataset with cars (CO2_passenger_cars2018b.csv). You what to know what features contribute to the increase of CO2 emission \n",
    "\n",
    "**1** Import needed libraries\n",
    "\n",
    "**2** read data from file\n",
    "\n",
    "**3** list dataset showing first 5 lines. View data types\n",
    "\n",
    "**4** verify possible values of categoric variable Ft\n",
    "\n",
    "**5** convert Petrol to PETROL and Diesel to DIESEL\n",
    "\n",
    "**6** verify again values of categoric variable Ft\n",
    "\n",
    "**7** convert variables 'm (kg)','ec (cm3)','ep (KW) and 'Enedc (g/km)' to numeric\n",
    "\n",
    "    If ‘raise’, then invalid parsing will raise an exception\n",
    "    If ‘coerce’, then invalid parsing will be set as NaN\n",
    "    If ‘ignore’, then invalid parsing will return the input\n",
    "\n",
    "**8** remove all lines with NaN from df dataset and set to XY\n",
    "\n",
    "**9** create a Y vector and X matrix\n",
    "\n",
    "**10** create a regression model\n",
    "\n",
    "**11** analyse correlation between variables. Use seaborn. Like for example in:\n",
    "\n",
    "    import seaborn as sns\n",
    "    import matplotlib.pyplot as plt\n",
    "    fig = plt.figure(figsize=[12, 12])\n",
    "    corr_mtx = XY.corr()\n",
    "    sns.heatmap(corr_mtx, xticklabels=corr_mtx.columns, yticklabels=corr_mtx.columns, annot=True, cmap='Blues')\n",
    "    plt.title('Correlation analysis')\n",
    "    plt.show()\n",
    "\n",
    "**12** convert Ft into dummy variables\n",
    "\n",
    "**13** add dummy variable to a new data set XY2\n",
    "\n",
    "**14** create a Y vector and X matrix\n",
    "\n",
    "**15** create a regression model"
   ]
  },
  {
   "cell_type": "code",
   "execution_count": 14,
   "metadata": {},
   "outputs": [],
   "source": [
    "import numpy as np\n",
    "import pandas as pd\n",
    "from matplotlib import pyplot as plt\n",
    "from sklearn.cluster import KMeans\n",
    "from sklearn.linear_model import LinearRegression"
   ]
  },
  {
   "cell_type": "code",
   "execution_count": 15,
   "metadata": {},
   "outputs": [
    {
     "data": {
      "text/html": [
       "<div>\n",
       "<style scoped>\n",
       "    .dataframe tbody tr th:only-of-type {\n",
       "        vertical-align: middle;\n",
       "    }\n",
       "\n",
       "    .dataframe tbody tr th {\n",
       "        vertical-align: top;\n",
       "    }\n",
       "\n",
       "    .dataframe thead th {\n",
       "        text-align: right;\n",
       "    }\n",
       "</style>\n",
       "<table border=\"1\" class=\"dataframe\">\n",
       "  <thead>\n",
       "    <tr style=\"text-align: right;\">\n",
       "      <th></th>\n",
       "      <th>Fabricante</th>\n",
       "      <th>CommercialName</th>\n",
       "      <th>m (kg)</th>\n",
       "      <th>Enedc (g/km)</th>\n",
       "      <th>Ft</th>\n",
       "      <th>ec (cm3)</th>\n",
       "      <th>ep (KW)</th>\n",
       "    </tr>\n",
       "  </thead>\n",
       "  <tbody>\n",
       "    <tr>\n",
       "      <td>0</td>\n",
       "      <td>VOLKSWAGEN</td>\n",
       "      <td>GOLF</td>\n",
       "      <td>1375</td>\n",
       "      <td>104.0</td>\n",
       "      <td>DIESEL</td>\n",
       "      <td>1598</td>\n",
       "      <td>85.0</td>\n",
       "    </tr>\n",
       "    <tr>\n",
       "      <td>1</td>\n",
       "      <td>VOLKSWAGEN</td>\n",
       "      <td>GOLF</td>\n",
       "      <td>1340</td>\n",
       "      <td>119.0</td>\n",
       "      <td>PETROL</td>\n",
       "      <td>1498</td>\n",
       "      <td>110.0</td>\n",
       "    </tr>\n",
       "    <tr>\n",
       "      <td>2</td>\n",
       "      <td>VOLKSWAGEN</td>\n",
       "      <td>GOLF</td>\n",
       "      <td>1320</td>\n",
       "      <td>120.0</td>\n",
       "      <td>PETROL</td>\n",
       "      <td>1498</td>\n",
       "      <td>110.0</td>\n",
       "    </tr>\n",
       "    <tr>\n",
       "      <td>3</td>\n",
       "      <td>VOLKSWAGEN</td>\n",
       "      <td>POLO</td>\n",
       "      <td>1145</td>\n",
       "      <td>104.0</td>\n",
       "      <td>PETROL</td>\n",
       "      <td>999</td>\n",
       "      <td>70.0</td>\n",
       "    </tr>\n",
       "    <tr>\n",
       "      <td>4</td>\n",
       "      <td>VOLKSWAGEN</td>\n",
       "      <td>POLO</td>\n",
       "      <td>1145</td>\n",
       "      <td>104.0</td>\n",
       "      <td>PETROL</td>\n",
       "      <td>999</td>\n",
       "      <td>70.0</td>\n",
       "    </tr>\n",
       "  </tbody>\n",
       "</table>\n",
       "</div>"
      ],
      "text/plain": [
       "   Fabricante CommercialName m (kg)  Enedc (g/km)      Ft ec (cm3)  ep (KW)\n",
       "0  VOLKSWAGEN           GOLF   1375         104.0  DIESEL     1598     85.0\n",
       "1  VOLKSWAGEN           GOLF   1340         119.0  PETROL     1498    110.0\n",
       "2  VOLKSWAGEN           GOLF   1320         120.0  PETROL     1498    110.0\n",
       "3  VOLKSWAGEN           POLO   1145         104.0  PETROL      999     70.0\n",
       "4  VOLKSWAGEN           POLO   1145         104.0  PETROL      999     70.0"
      ]
     },
     "execution_count": 15,
     "metadata": {},
     "output_type": "execute_result"
    }
   ],
   "source": [
    "df=pd.read_csv(\"CO2_passenger_cars2018b.csv\")\n",
    "df.head()"
   ]
  },
  {
   "cell_type": "code",
   "execution_count": 16,
   "metadata": {},
   "outputs": [
    {
     "data": {
      "text/plain": [
       "Fabricante         object\n",
       "CommercialName     object\n",
       "m (kg)             object\n",
       "Enedc (g/km)      float64\n",
       "Ft                 object\n",
       "ec (cm3)           object\n",
       "ep (KW)           float64\n",
       "dtype: object"
      ]
     },
     "execution_count": 16,
     "metadata": {},
     "output_type": "execute_result"
    }
   ],
   "source": [
    "df.dtypes"
   ]
  },
  {
   "cell_type": "code",
   "execution_count": 17,
   "metadata": {},
   "outputs": [
    {
     "data": {
      "text/plain": [
       "array(['DIESEL', 'PETROL', nan], dtype=object)"
      ]
     },
     "execution_count": 17,
     "metadata": {},
     "output_type": "execute_result"
    }
   ],
   "source": [
    "df['Ft'].unique()\n",
    "df[\"Ft\"]=df[\"Ft\"].replace(\"Petrol\",\"PETROL\")\n",
    "df[\"Ft\"]=df[\"Ft\"].replace(\"Diesel\",\"DIESEL\")\n",
    "df['Ft'].unique()"
   ]
  },
  {
   "cell_type": "code",
   "execution_count": 18,
   "metadata": {},
   "outputs": [
    {
     "data": {
      "text/plain": [
       "Fabricante         object\n",
       "CommercialName     object\n",
       "m (kg)            float64\n",
       "Enedc (g/km)      float64\n",
       "Ft                 object\n",
       "ec (cm3)          float64\n",
       "ep (KW)           float64\n",
       "dtype: object"
      ]
     },
     "execution_count": 18,
     "metadata": {},
     "output_type": "execute_result"
    }
   ],
   "source": [
    "df.iloc[:,2]=pd.to_numeric(df.iloc[:,2],errors='coerce')\n",
    "df.iloc[:,5]=pd.to_numeric(df.iloc[:,5],errors='coerce')\n",
    "df.dtypes"
   ]
  },
  {
   "cell_type": "code",
   "execution_count": 19,
   "metadata": {},
   "outputs": [
    {
     "data": {
      "text/html": [
       "<div>\n",
       "<style scoped>\n",
       "    .dataframe tbody tr th:only-of-type {\n",
       "        vertical-align: middle;\n",
       "    }\n",
       "\n",
       "    .dataframe tbody tr th {\n",
       "        vertical-align: top;\n",
       "    }\n",
       "\n",
       "    .dataframe thead th {\n",
       "        text-align: right;\n",
       "    }\n",
       "</style>\n",
       "<table border=\"1\" class=\"dataframe\">\n",
       "  <thead>\n",
       "    <tr style=\"text-align: right;\">\n",
       "      <th></th>\n",
       "      <th>Fabricante</th>\n",
       "      <th>CommercialName</th>\n",
       "      <th>m (kg)</th>\n",
       "      <th>Enedc (g/km)</th>\n",
       "      <th>Ft</th>\n",
       "      <th>ec (cm3)</th>\n",
       "      <th>ep (KW)</th>\n",
       "    </tr>\n",
       "  </thead>\n",
       "  <tbody>\n",
       "    <tr>\n",
       "      <td>0</td>\n",
       "      <td>VOLKSWAGEN</td>\n",
       "      <td>GOLF</td>\n",
       "      <td>1375.0</td>\n",
       "      <td>104.0</td>\n",
       "      <td>DIESEL</td>\n",
       "      <td>1598.0</td>\n",
       "      <td>85.0</td>\n",
       "    </tr>\n",
       "    <tr>\n",
       "      <td>1</td>\n",
       "      <td>VOLKSWAGEN</td>\n",
       "      <td>GOLF</td>\n",
       "      <td>1340.0</td>\n",
       "      <td>119.0</td>\n",
       "      <td>PETROL</td>\n",
       "      <td>1498.0</td>\n",
       "      <td>110.0</td>\n",
       "    </tr>\n",
       "    <tr>\n",
       "      <td>2</td>\n",
       "      <td>VOLKSWAGEN</td>\n",
       "      <td>GOLF</td>\n",
       "      <td>1320.0</td>\n",
       "      <td>120.0</td>\n",
       "      <td>PETROL</td>\n",
       "      <td>1498.0</td>\n",
       "      <td>110.0</td>\n",
       "    </tr>\n",
       "    <tr>\n",
       "      <td>3</td>\n",
       "      <td>VOLKSWAGEN</td>\n",
       "      <td>POLO</td>\n",
       "      <td>1145.0</td>\n",
       "      <td>104.0</td>\n",
       "      <td>PETROL</td>\n",
       "      <td>999.0</td>\n",
       "      <td>70.0</td>\n",
       "    </tr>\n",
       "    <tr>\n",
       "      <td>4</td>\n",
       "      <td>VOLKSWAGEN</td>\n",
       "      <td>POLO</td>\n",
       "      <td>1145.0</td>\n",
       "      <td>104.0</td>\n",
       "      <td>PETROL</td>\n",
       "      <td>999.0</td>\n",
       "      <td>70.0</td>\n",
       "    </tr>\n",
       "  </tbody>\n",
       "</table>\n",
       "</div>"
      ],
      "text/plain": [
       "   Fabricante CommercialName  m (kg)  Enedc (g/km)      Ft  ec (cm3)  ep (KW)\n",
       "0  VOLKSWAGEN           GOLF  1375.0         104.0  DIESEL    1598.0     85.0\n",
       "1  VOLKSWAGEN           GOLF  1340.0         119.0  PETROL    1498.0    110.0\n",
       "2  VOLKSWAGEN           GOLF  1320.0         120.0  PETROL    1498.0    110.0\n",
       "3  VOLKSWAGEN           POLO  1145.0         104.0  PETROL     999.0     70.0\n",
       "4  VOLKSWAGEN           POLO  1145.0         104.0  PETROL     999.0     70.0"
      ]
     },
     "execution_count": 19,
     "metadata": {},
     "output_type": "execute_result"
    }
   ],
   "source": [
    "XY=df.dropna()\n",
    "XY.head()"
   ]
  },
  {
   "cell_type": "code",
   "execution_count": 20,
   "metadata": {},
   "outputs": [],
   "source": [
    "Y=XY['Enedc (g/km)']\n",
    "X=XY[['m (kg)','ec (cm3)','ep (KW)']]"
   ]
  },
  {
   "cell_type": "code",
   "execution_count": 26,
   "metadata": {},
   "outputs": [
    {
     "data": {
      "text/plain": [
       "LinearRegression(copy_X=True, fit_intercept=True, n_jobs=None, normalize=False)"
      ]
     },
     "execution_count": 26,
     "metadata": {},
     "output_type": "execute_result"
    }
   ],
   "source": [
    "lm=LinearRegression()\n",
    "lm.fit(X,Y)"
   ]
  },
  {
   "cell_type": "code",
   "execution_count": 27,
   "metadata": {},
   "outputs": [
    {
     "data": {
      "text/plain": [
       "array([ 0.02414271, -0.00170046,  0.31175694])"
      ]
     },
     "execution_count": 27,
     "metadata": {},
     "output_type": "execute_result"
    }
   ],
   "source": [
    "lm.coef_"
   ]
  },
  {
   "cell_type": "code",
   "execution_count": 28,
   "metadata": {},
   "outputs": [
    {
     "data": {
      "text/plain": [
       "0.49445909800069104"
      ]
     },
     "execution_count": 28,
     "metadata": {},
     "output_type": "execute_result"
    }
   ],
   "source": [
    "lm.score(X,Y)"
   ]
  },
  {
   "cell_type": "code",
   "execution_count": 29,
   "metadata": {},
   "outputs": [
    {
     "data": {
      "image/png": "[encoded data removed]",
      "text/plain": [
       "<Figure size 864x864 with 2 Axes>"
      ]
     },
     "metadata": {
      "needs_background": "light"
     },
     "output_type": "display_data"
    }
   ],
   "source": [
    "import seaborn as sns\n",
    "import matplotlib.pyplot as plt\n",
    "fig = plt.figure(figsize=[12, 12])\n",
    "corr_mtx = XY.corr()\n",
    "sns.heatmap(corr_mtx, xticklabels=corr_mtx.columns, yticklabels=corr_mtx.columns, annot=True, cmap='Blues')\n",
    "plt.title('Correlation analysis')\n",
    "plt.show()"
   ]
  },
  {
   "cell_type": "code",
   "execution_count": 30,
   "metadata": {},
   "outputs": [
    {
     "data": {
      "text/html": [
       "<div>\n",
       "<style scoped>\n",
       "    .dataframe tbody tr th:only-of-type {\n",
       "        vertical-align: middle;\n",
       "    }\n",
       "\n",
       "    .dataframe tbody tr th {\n",
       "        vertical-align: top;\n",
       "    }\n",
       "\n",
       "    .dataframe thead th {\n",
       "        text-align: right;\n",
       "    }\n",
       "</style>\n",
       "<table border=\"1\" class=\"dataframe\">\n",
       "  <thead>\n",
       "    <tr style=\"text-align: right;\">\n",
       "      <th></th>\n",
       "      <th>Fabricante</th>\n",
       "      <th>CommercialName</th>\n",
       "      <th>m (kg)</th>\n",
       "      <th>Enedc (g/km)</th>\n",
       "      <th>Ft</th>\n",
       "      <th>ec (cm3)</th>\n",
       "      <th>ep (KW)</th>\n",
       "    </tr>\n",
       "  </thead>\n",
       "  <tbody>\n",
       "    <tr>\n",
       "      <td>0</td>\n",
       "      <td>VOLKSWAGEN</td>\n",
       "      <td>GOLF</td>\n",
       "      <td>1375.0</td>\n",
       "      <td>104.0</td>\n",
       "      <td>1.0</td>\n",
       "      <td>1598.0</td>\n",
       "      <td>85.0</td>\n",
       "    </tr>\n",
       "    <tr>\n",
       "      <td>1</td>\n",
       "      <td>VOLKSWAGEN</td>\n",
       "      <td>GOLF</td>\n",
       "      <td>1340.0</td>\n",
       "      <td>119.0</td>\n",
       "      <td>0.0</td>\n",
       "      <td>1498.0</td>\n",
       "      <td>110.0</td>\n",
       "    </tr>\n",
       "    <tr>\n",
       "      <td>2</td>\n",
       "      <td>VOLKSWAGEN</td>\n",
       "      <td>GOLF</td>\n",
       "      <td>1320.0</td>\n",
       "      <td>120.0</td>\n",
       "      <td>0.0</td>\n",
       "      <td>1498.0</td>\n",
       "      <td>110.0</td>\n",
       "    </tr>\n",
       "    <tr>\n",
       "      <td>3</td>\n",
       "      <td>VOLKSWAGEN</td>\n",
       "      <td>POLO</td>\n",
       "      <td>1145.0</td>\n",
       "      <td>104.0</td>\n",
       "      <td>0.0</td>\n",
       "      <td>999.0</td>\n",
       "      <td>70.0</td>\n",
       "    </tr>\n",
       "    <tr>\n",
       "      <td>4</td>\n",
       "      <td>VOLKSWAGEN</td>\n",
       "      <td>POLO</td>\n",
       "      <td>1145.0</td>\n",
       "      <td>104.0</td>\n",
       "      <td>0.0</td>\n",
       "      <td>999.0</td>\n",
       "      <td>70.0</td>\n",
       "    </tr>\n",
       "  </tbody>\n",
       "</table>\n",
       "</div>"
      ],
      "text/plain": [
       "   Fabricante CommercialName  m (kg)  Enedc (g/km)   Ft  ec (cm3)  ep (KW)\n",
       "0  VOLKSWAGEN           GOLF  1375.0         104.0  1.0    1598.0     85.0\n",
       "1  VOLKSWAGEN           GOLF  1340.0         119.0  0.0    1498.0    110.0\n",
       "2  VOLKSWAGEN           GOLF  1320.0         120.0  0.0    1498.0    110.0\n",
       "3  VOLKSWAGEN           POLO  1145.0         104.0  0.0     999.0     70.0\n",
       "4  VOLKSWAGEN           POLO  1145.0         104.0  0.0     999.0     70.0"
      ]
     },
     "execution_count": 30,
     "metadata": {},
     "output_type": "execute_result"
    }
   ],
   "source": [
    "df2=df\n",
    "df2[\"Ft\"]=df2[\"Ft\"].replace(\"PETROL\",0)\n",
    "df2[\"Ft\"]=df2[\"Ft\"].replace(\"DIESEL\",1)\n",
    "XY2=df2.dropna()\n",
    "XY2.head()"
   ]
  },
  {
   "cell_type": "code",
   "execution_count": 31,
   "metadata": {},
   "outputs": [],
   "source": [
    "Y2=XY2['Enedc (g/km)']\n",
    "X2=XY2[['m (kg)','ec (cm3)','ep (KW)','Ft']]"
   ]
  },
  {
   "cell_type": "code",
   "execution_count": 32,
   "metadata": {},
   "outputs": [
    {
     "data": {
      "text/plain": [
       "LinearRegression(copy_X=True, fit_intercept=True, n_jobs=None, normalize=False)"
      ]
     },
     "execution_count": 32,
     "metadata": {},
     "output_type": "execute_result"
    }
   ],
   "source": [
    "lm2=LinearRegression()\n",
    "lm2.fit(X2,Y2)"
   ]
  },
  {
   "cell_type": "code",
   "execution_count": 33,
   "metadata": {},
   "outputs": [
    {
     "data": {
      "text/plain": [
       "array([ 5.40879228e-02,  1.72812603e-02,  4.57921958e-02, -2.66822078e+01])"
      ]
     },
     "execution_count": 33,
     "metadata": {},
     "output_type": "execute_result"
    }
   ],
   "source": [
    "lm2.coef_"
   ]
  },
  {
   "cell_type": "code",
   "execution_count": 35,
   "metadata": {},
   "outputs": [
    {
     "data": {
      "text/plain": [
       "0.674022337178782"
      ]
     },
     "execution_count": 35,
     "metadata": {},
     "output_type": "execute_result"
    }
   ],
   "source": [
    "lm2.score(X2,Y2)"
   ]
  },
  {
   "cell_type": "code",
   "execution_count": 36,
   "metadata": {},
   "outputs": [
    {
     "data": {
      "text/plain": [
       "29.70545686319852"
      ]
     },
     "execution_count": 36,
     "metadata": {},
     "output_type": "execute_result"
    }
   ],
   "source": [
    "lm2.intercept_"
   ]
  },
  {
   "cell_type": "code",
   "execution_count": null,
   "metadata": {},
   "outputs": [],
   "source": []
  }
 ],
 "metadata": {
  "kernelspec": {
   "display_name": "Python 3",
   "language": "python",
   "name": "python3"
  },
  "language_info": {
   "codemirror_mode": {
    "name": "ipython",
    "version": 3
   },
   "file_extension": ".py",
   "mimetype": "text/x-python",
   "name": "python",
   "nbconvert_exporter": "python",
   "pygments_lexer": "ipython3",
   "version": "3.7.4"
  }
 },
 "nbformat": 4,
 "nbformat_minor": 2
}
