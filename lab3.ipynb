{
 "cells": [
  {
   "cell_type": "code",
   "execution_count": 2,
   "metadata": {},
   "outputs": [
    {
     "name": "stdout",
     "output_type": "stream",
     "text": [
      "[['Dr. No (1962)', 'From Russia with Love (1963)', 'Goldfinger (1964)', 'Thunderball (1965)', 'You Only Live Twice (1967)', 'Diamonds Are Forever (1971)', 'Never Say Never Again (1983)'], ['Casino Royale (1967)'], [\"On Her Majesty's Secret Service (1969)\"], ['Live and Let Die (1973)', 'The Man with the Golden Gun (1974)', 'The Spy Who Loved Me (1977)', 'Moonraker (1979)', 'For Your Eyes Only (1981)', 'Octopussy (1983)', 'A View to a Kill (1985)'], ['The Living Daylights (1987)', 'Licence to Kill (1989)'], ['GoldenEye (1995)', 'Tomorrow Never Dies (1997)', 'The World Is Not Enough (1999)', 'Die Another Day (2002)'], ['Casino Royale (2006)', 'Quantum of Solace (2008)', 'Skyfall (2012)', 'Spectre (2015)']]\n"
     ]
    }
   ],
   "source": [
    "#1) create a list of lists (movies007). The list will be composed by each list of movies featured by each actor.\n",
    "moviesSeanConnery = [\"Dr. No (1962)\", \"From Russia with Love (1963)\", \"Goldfinger (1964)\", \"Thunderball (1965)\", \"You Only Live Twice (1967)\", \"Diamonds Are Forever (1971)\", \"Never Say Never Again (1983)\"]\n",
    "moviesDavidNeven = [\"Casino Royale (1967)\"] \n",
    "moviesGeorgeLazenby = [\"On Her Majesty's Secret Service (1969)\"]\n",
    "moviesRogerMoore = [\"Live and Let Die (1973)\", \"The Man with the Golden Gun (1974)\", \"The Spy Who Loved Me (1977)\", \"Moonraker (1979)\", \"For Your Eyes Only (1981)\", \"Octopussy (1983)\", \"A View to a Kill (1985)\"]\n",
    "moviesTimothyDalton = [\"The Living Daylights (1987)\", \"Licence to Kill (1989)\" ]\n",
    "moviesPierceBrosnan = [\"GoldenEye (1995)\", \"Tomorrow Never Dies (1997)\", \"The World Is Not Enough (1999)\", \"Die Another Day (2002)\"]\n",
    "moviesDanielCraig = [\"Casino Royale (2006)\", \"Quantum of Solace (2008)\", \"Skyfall (2012)\", \"Spectre (2015)\"]\n",
    "movies007 = [moviesSeanConnery,moviesDavidNeven,moviesGeorgeLazenby,moviesRogerMoore,moviesTimothyDalton,moviesPierceBrosnan,moviesDanielCraig]\n",
    "print(movies007)"
   ]
  },
  {
   "cell_type": "code",
   "execution_count": 12,
   "metadata": {},
   "outputs": [
    {
     "name": "stdout",
     "output_type": "stream",
     "text": [
      "Sean Connery has been in 7 movies\n"
     ]
    }
   ],
   "source": [
    "#2) How many movies were played by the first actor to play James Bond?\n",
    "print(\"Sean Connery has been in \" + str(len(movies007[0])) + \" movies\")"
   ]
  },
  {
   "cell_type": "code",
   "execution_count": 11,
   "metadata": {},
   "outputs": [
    {
     "name": "stdout",
     "output_type": "stream",
     "text": [
      "Daniel Craig has been in 4 movies\n"
     ]
    }
   ],
   "source": [
    "#3) How many movies were played by the last actor to play James Bond?\n",
    "print(\"Daniel Craig has been in \" + str(len(movies007[6])) + \" movies\")"
   ]
  },
  {
   "cell_type": "code",
   "execution_count": 13,
   "metadata": {},
   "outputs": [
    {
     "name": "stdout",
     "output_type": "stream",
     "text": [
      "7 different actors\n"
     ]
    }
   ],
   "source": [
    "#4) How many actors played the role of James Bond?\n",
    "print(str(len(movies007)) + \" different actors\")"
   ]
  },
  {
   "cell_type": "code",
   "execution_count": 14,
   "metadata": {},
   "outputs": [
    {
     "name": "stdout",
     "output_type": "stream",
     "text": [
      "[7, 1, 1, 7, 2, 4, 4]\n"
     ]
    }
   ],
   "source": [
    "#5) Create a new list with the number of movies played by each actor\n",
    "nrmovies007 = [len(moviesSeanConnery),len(moviesDavidNeven),len(moviesGeorgeLazenby),len(moviesRogerMoore),len(moviesTimothyDalton),len(moviesPierceBrosnan),len(moviesDanielCraig)]\n",
    "print(nrmovies007)"
   ]
  },
  {
   "cell_type": "code",
   "execution_count": 20,
   "metadata": {},
   "outputs": [
    {
     "name": "stdout",
     "output_type": "stream",
     "text": [
      "7\n"
     ]
    }
   ],
   "source": [
    "#6) How many movies were played by the actor who appeared most often in movies?\n",
    "print(max(nrmovies007))"
   ]
  },
  {
   "cell_type": "code",
   "execution_count": 21,
   "metadata": {},
   "outputs": [
    {
     "name": "stdout",
     "output_type": "stream",
     "text": [
      "1\n"
     ]
    }
   ],
   "source": [
    "#7) How many movies were played by the actor who appeared in fewer movies?\n",
    "print(min(nrmovies007))"
   ]
  },
  {
   "cell_type": "code",
   "execution_count": 37,
   "metadata": {},
   "outputs": [
    {
     "name": "stdout",
     "output_type": "stream",
     "text": [
      "['Dr. No (1962)', 'From Russia with Love (1963)', 'Goldfinger (1964)', 'Thunderball (1965)', 'You Only Live Twice (1967)', 'Diamonds Are Forever (1971)', 'Never Say Never Again (1983)', 'Casino Royale (1967)', \"On Her Majesty's Secret Service (1969)\", 'Live and Let Die (1973)', 'The Man with the Golden Gun (1974)', 'The Spy Who Loved Me (1977)', 'Moonraker (1979)', 'For Your Eyes Only (1981)', 'Octopussy (1983)', 'A View to a Kill (1985)', 'The Living Daylights (1987)', 'Licence to Kill (1989)', 'GoldenEye (1995)', 'Tomorrow Never Dies (1997)', 'The World Is Not Enough (1999)', 'Die Another Day (2002)', 'Casino Royale (2006)', 'Quantum of Solace (2008)', 'Skyfall (2012)', 'Spectre (2015)']\n"
     ]
    }
   ],
   "source": [
    "#8) Create a new list (movies007a) with all the films.\n",
    "movies007a = [x for y in movies007 for x in y]\n",
    "print(movies007a)"
   ]
  },
  {
   "cell_type": "code",
   "execution_count": 39,
   "metadata": {},
   "outputs": [
    {
     "name": "stdout",
     "output_type": "stream",
     "text": [
      "Sorted elements:  ['A View to a Kill (1985)', 'Casino Royale (1967)', 'Casino Royale (2006)', 'Diamonds Are Forever (1971)', 'Die Another Day (2002)', 'Dr. No (1962)', 'For Your Eyes Only (1981)', 'From Russia with Love (1963)', 'GoldenEye (1995)', 'Goldfinger (1964)', 'Licence to Kill (1989)', 'Live and Let Die (1973)', 'Moonraker (1979)', 'Never Say Never Again (1983)', 'Octopussy (1983)', \"On Her Majesty's Secret Service (1969)\", 'Quantum of Solace (2008)', 'Skyfall (2012)', 'Spectre (2015)', 'The Living Daylights (1987)', 'The Man with the Golden Gun (1974)', 'The Spy Who Loved Me (1977)', 'The World Is Not Enough (1999)', 'Thunderball (1965)', 'Tomorrow Never Dies (1997)', 'You Only Live Twice (1967)']\n"
     ]
    }
   ],
   "source": [
    "#9) Sort the elements of the list \n",
    "movies007a.sort()\n",
    "print(\"Sorted elements: \", movies007a)"
   ]
  },
  {
   "cell_type": "code",
   "execution_count": 43,
   "metadata": {},
   "outputs": [
    {
     "name": "stdout",
     "output_type": "stream",
     "text": [
      "Reversed List: ['You Only Live Twice (1967)', 'Tomorrow Never Dies (1997)', 'Thunderball (1965)', 'The World Is Not Enough (1999)', 'The Spy Who Loved Me (1977)', 'The Man with the Golden Gun (1974)', 'The Living Daylights (1987)', 'Spectre (2015)', 'Skyfall (2012)', 'Quantum of Solace (2008)', \"On Her Majesty's Secret Service (1969)\", 'Octopussy (1983)', 'Never Say Never Again (1983)', 'Moonraker (1979)', 'Live and Let Die (1973)', 'Licence to Kill (1989)', 'Goldfinger (1964)', 'GoldenEye (1995)', 'From Russia with Love (1963)', 'For Your Eyes Only (1981)', 'Dr. No (1962)', 'Die Another Day (2002)', 'Diamonds Are Forever (1971)', 'Casino Royale (2006)', 'Casino Royale (1967)', 'A View to a Kill (1985)']\n"
     ]
    }
   ],
   "source": [
    "#10) Reverse the order of the list. What will happen if this method is executed twice? Does this method sort the list if it is not sorted?\n",
    "movies007a.reverse()\n",
    "print(\"Reversed List:\", movies007a)\n",
    "\n",
    "#Yes, the list will be reversed twice"
   ]
  },
  {
   "cell_type": "code",
   "execution_count": 44,
   "metadata": {},
   "outputs": [
    {
     "name": "stdout",
     "output_type": "stream",
     "text": [
      "Index for Spectre (2015) is:  7\n"
     ]
    }
   ],
   "source": [
    "#10) What is the index of the movie \"Spectre (2015)\" in the list of movies\n",
    "print(\"Index for Spectre (2015) is: \", movies007a.index(\"Spectre (2015)\"))\n",
    "\n",
    "#This answer will depend on what order did we put the list before: either is 7 or 18"
   ]
  },
  {
   "cell_type": "code",
   "execution_count": null,
   "metadata": {},
   "outputs": [],
   "source": [
    "#11) Add the movie \"007 and the bad Guy of the climate change (2020)\" in the 11th position.\n"
   ]
  }
 ],
 "metadata": {
  "kernelspec": {
   "display_name": "Python 3",
   "language": "python",
   "name": "python3"
  },
  "language_info": {
   "codemirror_mode": {
    "name": "ipython",
    "version": 3
   },
   "file_extension": ".py",
   "mimetype": "text/x-python",
   "name": "python",
   "nbconvert_exporter": "python",
   "pygments_lexer": "ipython3",
   "version": "3.7.3"
  }
 },
 "nbformat": 4,
 "nbformat_minor": 2
}
