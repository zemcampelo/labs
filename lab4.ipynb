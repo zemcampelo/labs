{
 "cells": [
  {
   "cell_type": "code",
   "execution_count": 5,
   "metadata": {},
   "outputs": [
    {
     "name": "stdout",
     "output_type": "stream",
     "text": [
      "[1000.0, 1100.0, 1210.0000000000002, 1331.0000000000005, 1464.1000000000004, 1610.5100000000004]\n"
     ]
    }
   ],
   "source": [
    "sales=1000\n",
    "rate=0.1\n",
    "nyears=6\n",
    "\n",
    "VolumeSales=[]\n",
    "\n",
    "for i in range(0,nyears):\n",
    "    x=sales*(1+rate)**i\n",
    "    VolumeSales.append(x)\n",
    "    \n",
    "print(VolumeSales)\n"
   ]
  },
  {
   "cell_type": "code",
   "execution_count": 7,
   "metadata": {},
   "outputs": [
    {
     "name": "stdout",
     "output_type": "stream",
     "text": [
      "[300.00000000000006, 330.00000000000006, 363.0000000000001, 399.3000000000002, 439.2300000000002, 483.1530000000002]\n"
     ]
    }
   ],
   "source": [
    "margin=0.7\n",
    "\n",
    "CostList = [x*(1-margin) for x in VolumeSales]      \n",
    "\n",
    "print(CostList)"
   ]
  },
  {
   "cell_type": "code",
   "execution_count": 9,
   "metadata": {},
   "outputs": [
    {
     "name": "stdout",
     "output_type": "stream",
     "text": [
      "[700.0, 770.0, 847.0000000000001, 931.7000000000003, 1024.8700000000001, 1127.3570000000002]\n"
     ]
    }
   ],
   "source": [
    "\n",
    "Profit=[x-y for (x,y) in zip(VolumeSales,CostList)]\n",
    "\n",
    "print(Profit)"
   ]
  },
  {
   "cell_type": "code",
   "execution_count": 22,
   "metadata": {},
   "outputs": [
    {
     "name": "stdout",
     "output_type": "stream",
     "text": [
      "[200.0, 270.0, 347.0000000000001, 431.7000000000003, 524.8700000000001, 627.3570000000002]\n"
     ]
    }
   ],
   "source": [
    "NewProfit = [(x-500) for x in Profit]\n",
    "\n",
    "print(NewProfit)"
   ]
  },
  {
   "cell_type": "code",
   "execution_count": 42,
   "metadata": {},
   "outputs": [
    {
     "name": "stdout",
     "output_type": "stream",
     "text": [
      "[1120, 559, 1169, 1207, 310, 341]\n"
     ]
    }
   ],
   "source": [
    "import random\n",
    "NewSales=[]\n",
    "\n",
    "for i in range(0,nyears):\n",
    "    i=random.randint(200,2000)\n",
    "    NewSales.append(i)\n",
    "print(NewSales)"
   ]
  },
  {
   "cell_type": "code",
   "execution_count": 43,
   "metadata": {},
   "outputs": [
    {
     "name": "stdout",
     "output_type": "stream",
     "text": [
      "[284.0, -108.70000000000005, 318.29999999999995, 344.89999999999986, -283.0, -261.3]\n"
     ]
    }
   ],
   "source": [
    "margin=0.7\n",
    "\n",
    "NewCostList =[t*(1-margin) for t in NewSales]\n",
    "NewProfit1 = [(r-s) for (r,s) in zip(NewSales,NewCostList)]\n",
    "NewProfit2 = [(p-500) for p in NewProfit1]\n",
    "                                     \n",
    "print(NewProfit2)"
   ]
  },
  {
   "cell_type": "code",
   "execution_count": null,
   "metadata": {},
   "outputs": [],
   "source": []
  },
  {
   "cell_type": "code",
   "execution_count": null,
   "metadata": {},
   "outputs": [],
   "source": []
  }
 ],
 "metadata": {
  "kernelspec": {
   "display_name": "Python 3",
   "language": "python",
   "name": "python3"
  },
  "language_info": {
   "codemirror_mode": {
    "name": "ipython",
    "version": 3
   },
   "file_extension": ".py",
   "mimetype": "text/x-python",
   "name": "python",
   "nbconvert_exporter": "python",
   "pygments_lexer": "ipython3",
   "version": "3.7.4"
  }
 },
 "nbformat": 4,
 "nbformat_minor": 2
}
