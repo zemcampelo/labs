{
 "cells": [
  {
   "cell_type": "markdown",
   "metadata": {},
   "source": [
    "# lab 9\n",
    "\n",
    "Suppose you have the follwoing payoff matriz of a prisoner's dilemna\n",
    "$$\\begin{bmatrix} (2,2) & (0,3) \\\\ (3,0) & (1,1)  \\end{bmatrix}$$\n",
    "\n",
    "Player 0 may play 0 or 1 and player 1 may play 0 or 1. 0 is cooperate (our peace), 1 is not cooperate (war).\n"
   ]
  },
  {
   "cell_type": "markdown",
   "metadata": {},
   "source": [
    "**1.** Create a function that receives results from each one of the player and gives as results a tuple with the results."
   ]
  },
  {
   "cell_type": "code",
   "execution_count": null,
   "metadata": {},
   "outputs": [],
   "source": [
    "payoffs=(((2,2),(0,3)),((3,0),(1,1)))\n",
    "def game():\n",
    "    player0=input(\"Type 0 to cooperate and 1 to not cooperate: \")\n",
    "    player1=input(\"Type 0 to cooperate and 1 to not cooperate: \")\n",
    "    if int(player0)==0:\n",
    "        if int(player1)==0:\n",
    "            game=payoffs[0][0]\n",
    "        else:\n",
    "            game=payoffs[0][1]\n",
    "    else:\n",
    "        if int(player1)==0:\n",
    "            game=payoffs[1][0]\n",
    "        else:\n",
    "            game=payoffs[1][1]\n",
    "    return \"The payoff of the game is: \" + str(game)\n",
    "game()"
   ]
  },
  {
   "cell_type": "markdown",
   "metadata": {},
   "source": [
    "**2.** Player 0 is the user that chooses between 0 a 1. Player 1 is a computer. Result is randomly generated.  "
   ]
  },
  {
   "cell_type": "code",
   "execution_count": null,
   "metadata": {},
   "outputs": [],
   "source": [
    "import random\n",
    "def payoffcmp(user):\n",
    "    computer=random.randint(0,1)\n",
    "    result= payoffs[user][computer]\n",
    "    print(\"Player 1 (computer): \" + str(computer))\n",
    "    return result\n",
    "\n",
    "player0=input(\"Type 0 to cooperate and 1 to not cooperate: \")\n",
    "print(\"Player 0 (user): \" + str(player0))\n",
    "payoffcmp(int(player0))"
   ]
  },
  {
   "cell_type": "markdown",
   "metadata": {},
   "source": [
    "**3.** Calculate the accumulated value resulting from an iterative game (10 iterations)"
   ]
  },
  {
   "cell_type": "code",
   "execution_count": 1,
   "metadata": {},
   "outputs": [
    {
     "name": "stdout",
     "output_type": "stream",
     "text": [
      "Type 0 to cooperate and 1 to not cooperate: 1\n",
      "Player 0: 1\n",
      "Player 1: 0\n",
      "(3, 0)\n",
      "The acumulative sum of user's points is: 3\n",
      "Type 0 to cooperate and 1 to not cooperate: 1\n",
      "Player 0: 1\n",
      "Player 1: 1\n",
      "(1, 1)\n",
      "The acumulative sum of user's points is: 4\n",
      "Type 0 to cooperate and 1 to not cooperate: 1\n",
      "Player 0: 1\n",
      "Player 1: 1\n",
      "(1, 1)\n",
      "The acumulative sum of user's points is: 5\n",
      "Type 0 to cooperate and 1 to not cooperate: 1\n",
      "Player 0: 1\n",
      "Player 1: 1\n",
      "(1, 1)\n",
      "The acumulative sum of user's points is: 6\n",
      "Type 0 to cooperate and 1 to not cooperate: 1\n",
      "Player 0: 1\n",
      "Player 1: 0\n",
      "(3, 0)\n",
      "The acumulative sum of user's points is: 9\n",
      "Type 0 to cooperate and 1 to not cooperate: 1\n",
      "Player 0: 1\n",
      "Player 1: 1\n",
      "(1, 1)\n",
      "The acumulative sum of user's points is: 10\n",
      "Type 0 to cooperate and 1 to not cooperate: 1\n",
      "Player 0: 1\n",
      "Player 1: 1\n",
      "(1, 1)\n",
      "The acumulative sum of user's points is: 11\n",
      "Type 0 to cooperate and 1 to not cooperate: 1\n",
      "Player 0: 1\n",
      "Player 1: 1\n",
      "(1, 1)\n",
      "The acumulative sum of user's points is: 12\n",
      "Type 0 to cooperate and 1 to not cooperate: 1\n",
      "Player 0: 1\n",
      "Player 1: 1\n",
      "(1, 1)\n",
      "The acumulative sum of user's points is: 13\n",
      "Type 0 to cooperate and 1 to not cooperate: 1\n",
      "Player 0: 1\n",
      "Player 1: 0\n",
      "(3, 0)\n",
      "The acumulative sum of user's points is: 16\n"
     ]
    }
   ],
   "source": [
    "payoffss=[[(2,2),(0,3)],[(3,0),(1,1)]]\n",
    "def payoff(p0,p1):\n",
    "    p= payoffss[p0][p1]\n",
    "    return p\n",
    "import random\n",
    "total=0\n",
    "for i in range(1,11):\n",
    "    player0=input(\"Type 0 to cooperate and 1 to not cooperate: \")\n",
    "    player1=random.randint(0,1)\n",
    "    print(\"Player 0: \" + str(player0))\n",
    "    print(\"Player 1: \" + str(player1))\n",
    "    print(payoff(int(player0),int(player1)))\n",
    "    result= payoff(int(player0),int(player1))\n",
    "    total=total + result[0]\n",
    "    print(\"The acumulative sum of user's points is: \" + str(total))\n"
   ]
  },
  {
   "cell_type": "code",
   "execution_count": null,
   "metadata": {},
   "outputs": [],
   "source": []
  },
  {
   "cell_type": "code",
   "execution_count": null,
   "metadata": {},
   "outputs": [],
   "source": []
  }
 ],
 "metadata": {
  "kernelspec": {
   "display_name": "Python 3",
   "language": "python",
   "name": "python3"
  },
  "language_info": {
   "codemirror_mode": {
    "name": "ipython",
    "version": 3
   },
   "file_extension": ".py",
   "mimetype": "text/x-python",
   "name": "python",
   "nbconvert_exporter": "python",
   "pygments_lexer": "ipython3",
   "version": "3.7.4"
  }
 },
 "nbformat": 4,
 "nbformat_minor": 2
}
