{
 "cells": [
  {
   "cell_type": "code",
   "execution_count": 81,
   "metadata": {},
   "outputs": [
    {
     "name": "stdout",
     "output_type": "stream",
     "text": [
      "My name is José\n"
     ]
    }
   ],
   "source": [
    "# Write \"My name is ___\" in Python;\n",
    "a= \"José\"\n",
    "print(\"My name is \" + a)"
   ]
  },
  {
   "cell_type": "code",
   "execution_count": 82,
   "metadata": {},
   "outputs": [
    {
     "name": "stdout",
     "output_type": "stream",
     "text": [
      "3\n"
     ]
    }
   ],
   "source": [
    "# Declare a variable a = 3 and print a;\n",
    "a=3\n",
    "print(a)"
   ]
  },
  {
   "cell_type": "code",
   "execution_count": 83,
   "metadata": {},
   "outputs": [
    {
     "name": "stdout",
     "output_type": "stream",
     "text": [
      "1.1\n"
     ]
    }
   ],
   "source": [
    "# Declare a variable b = 1.1 and print b;\n",
    "b=1.1\n",
    "print(b)"
   ]
  },
  {
   "cell_type": "code",
   "execution_count": 84,
   "metadata": {},
   "outputs": [
    {
     "name": "stdout",
     "output_type": "stream",
     "text": [
      "4.1\n"
     ]
    }
   ],
   "source": [
    "# Declare a variable c = a + b and print c;\n",
    "c=a+b\n",
    "print(c)"
   ]
  },
  {
   "cell_type": "code",
   "execution_count": 85,
   "metadata": {},
   "outputs": [
    {
     "data": {
      "text/plain": [
       "1591"
      ]
     },
     "execution_count": 85,
     "metadata": {},
     "output_type": "execute_result"
    }
   ],
   "source": [
    "# What is the result of the multiplication of 43 by 37?\n",
    "43*37"
   ]
  },
  {
   "cell_type": "code",
   "execution_count": 86,
   "metadata": {},
   "outputs": [
    {
     "data": {
      "text/plain": [
       "2"
      ]
     },
     "execution_count": 86,
     "metadata": {},
     "output_type": "execute_result"
    }
   ],
   "source": [
    "# What is the rest of dividing 71 by 3 ?\n",
    "71%3"
   ]
  },
  {
   "cell_type": "code",
   "execution_count": 87,
   "metadata": {},
   "outputs": [
    {
     "name": "stdout",
     "output_type": "stream",
     "text": [
      "Today is 30/12/2019\n"
     ]
    }
   ],
   "source": [
    "#Prints today's date;\n",
    "print(\"Today is %02d/%02d/%04d\" % (30,12,2019))"
   ]
  },
  {
   "cell_type": "code",
   "execution_count": 88,
   "metadata": {},
   "outputs": [
    {
     "data": {
      "text/plain": [
       "'midterm'"
      ]
     },
     "execution_count": 88,
     "metadata": {},
     "output_type": "execute_result"
    }
   ],
   "source": [
    "# Create the word \"midterm\" through concatenation;\n",
    "a=\"mid\"\n",
    "b=\"term\"\n",
    "c=a+b\n",
    "c"
   ]
  },
  {
   "cell_type": "code",
   "execution_count": 89,
   "metadata": {},
   "outputs": [
    {
     "data": {
      "text/plain": [
       "7"
      ]
     },
     "execution_count": 89,
     "metadata": {},
     "output_type": "execute_result"
    }
   ],
   "source": [
    "# Print the number of letters of the word created above;\n",
    "len(c)"
   ]
  },
  {
   "cell_type": "code",
   "execution_count": 90,
   "metadata": {},
   "outputs": [
    {
     "data": {
      "text/plain": [
       "'MIDTERM'"
      ]
     },
     "execution_count": 90,
     "metadata": {},
     "output_type": "execute_result"
    }
   ],
   "source": [
    "#Print the word above in capital letters;\n",
    "c.upper()"
   ]
  },
  {
   "cell_type": "code",
   "execution_count": 91,
   "metadata": {},
   "outputs": [
    {
     "name": "stdout",
     "output_type": "stream",
     "text": [
      "What is your age: 80\n",
      "You can retire\n"
     ]
    }
   ],
   "source": [
    "# Declares the variable age. Prints the message \"You can retire\" if your age is over 65;\n",
    "age=int(input(\"What is your age: \"))\n",
    "if age<=65:\n",
    "    print(\"You still have a few years of work\")\n",
    "else:\n",
    "    print(\"You can retire\")"
   ]
  },
  {
   "cell_type": "code",
   "execution_count": 92,
   "metadata": {},
   "outputs": [
    {
     "name": "stdout",
     "output_type": "stream",
     "text": [
      "What's your annual wage: 1200\n",
      "Your income tax rate is equal to 17%\n"
     ]
    }
   ],
   "source": [
    "#Declares the variable income corresponding to the annual wage. Print the following messages under the conditions:\n",
    "income=int(input(\"What's your annual wage: \"))\n",
    "if income<=8000:\n",
    "    print(\"Your income tax rate is equal to 17%\")\n",
    "else:\n",
    "    if income<=11000:\n",
    "        print(\"Your income tax rate is equal to 24%\")\n",
    "    else:\n",
    "        print(\"Your income tax rate is equal to 35%\")"
   ]
  },
  {
   "cell_type": "code",
   "execution_count": 93,
   "metadata": {},
   "outputs": [
    {
     "name": "stdout",
     "output_type": "stream",
     "text": [
      "27\n",
      "28\n",
      "29\n",
      "30\n",
      "31\n",
      "32\n",
      "33\n"
     ]
    }
   ],
   "source": [
    "# Prints all values between 27 and 33;\n",
    "for i in range(27,34):\n",
    "    print(i)"
   ]
  },
  {
   "cell_type": "code",
   "execution_count": 94,
   "metadata": {},
   "outputs": [
    {
     "name": "stdout",
     "output_type": "stream",
     "text": [
      "The divisor is: 10\n",
      "The rest is 3\n",
      "The divisor is: 9\n",
      "The rest is 3\n",
      "The divisor is: 8\n",
      "The rest is 5\n",
      "The divisor is: 7\n",
      "The rest is 2\n",
      "The divisor is: 6\n",
      "The rest is 3\n",
      "The divisor is: 5\n",
      "The rest is 3\n",
      "The divisor is: 4\n",
      "The rest is 1\n",
      "The divisor is: 3\n",
      "The rest is 0\n"
     ]
    }
   ],
   "source": [
    "#Declares the divisor variable = 10. While the remainder of the division between 93 and the divisor is different from 0 prints the divisor and decrements it ;\n",
    "divisor=11\n",
    "while 93%divisor!=0:\n",
    "    divisor-=1\n",
    "    print(\"The divisor is: \" + str(divisor))\n",
    "    print(\"The rest is \" + str(93%divisor))"
   ]
  },
  {
   "cell_type": "code",
   "execution_count": 95,
   "metadata": {},
   "outputs": [
    {
     "name": "stdout",
     "output_type": "stream",
     "text": [
      "['MAEG', 'Economics', 'Management', 'Finance', 'Econometrics']\n"
     ]
    }
   ],
   "source": [
    "# State a list with 5 UC's of your course;\n",
    "listUC=[\"MAEG\",\"Economics\",\"Management\",\"Finance\",\"Econometrics\"]\n",
    "print(listUC)"
   ]
  },
  {
   "cell_type": "code",
   "execution_count": 96,
   "metadata": {},
   "outputs": [
    {
     "name": "stdout",
     "output_type": "stream",
     "text": [
      "Management\n",
      "Econometrics\n"
     ]
    }
   ],
   "source": [
    "#Print the third and last UC of your list;\n",
    "print(listUC[2])\n",
    "print(listUC[4])"
   ]
  },
  {
   "cell_type": "code",
   "execution_count": 97,
   "metadata": {},
   "outputs": [
    {
     "name": "stdout",
     "output_type": "stream",
     "text": [
      "MAEG\n",
      "Economics\n",
      "Management\n",
      "Finance\n",
      "Econometrics\n"
     ]
    }
   ],
   "source": [
    "#Print, through an iteration, your list;\n",
    "for i in listUC:\n",
    "    print (i)"
   ]
  },
  {
   "cell_type": "code",
   "execution_count": 98,
   "metadata": {},
   "outputs": [
    {
     "name": "stdout",
     "output_type": "stream",
     "text": [
      "['MAEG', 'Management', 'Finance', 'Econometrics', 'Stochastic Calculus']\n"
     ]
    }
   ],
   "source": [
    "# Remove the second UC from your list and add another one\n",
    "listUC.remove(\"Economics\")\n",
    "listUC.append(\"Stochastic Calculus\")\n",
    "print(listUC)"
   ]
  },
  {
   "cell_type": "code",
   "execution_count": 99,
   "metadata": {},
   "outputs": [
    {
     "name": "stdout",
     "output_type": "stream",
     "text": [
      "[3, 6, 9, 12, 15, 18, 21]\n"
     ]
    }
   ],
   "source": [
    "# Create a list of the first 7 multiples of 3;\n",
    "multiples=[]\n",
    "for x in range(1,8):\n",
    "    multiples.append(3*x)\n",
    "print(multiples)"
   ]
  },
  {
   "cell_type": "code",
   "execution_count": 100,
   "metadata": {},
   "outputs": [
    {
     "name": "stdout",
     "output_type": "stream",
     "text": [
      "('MAEG', 'Economics', 'Management', 'Finance', 'Econometrics')\n"
     ]
    }
   ],
   "source": [
    "#Repeat the first line with a Tuple;\n",
    "listUC=(\"MAEG\",\"Economics\",\"Management\",\"Finance\",\"Econometrics\")\n",
    "print(listUC)"
   ]
  },
  {
   "cell_type": "code",
   "execution_count": 101,
   "metadata": {},
   "outputs": [
    {
     "name": "stdout",
     "output_type": "stream",
     "text": [
      "{1: 'P1', 2: 'P2', 3: 'P3', 4: 'P4', 5: 'P5', 6: 'P6'}\n"
     ]
    }
   ],
   "source": [
    "# Declares a dictionary with 6 programming languages excluding Python;\n",
    "dictpl={1:\"P1\",2:\"P2\",3:\"P3\",4:\"P4\",5:\"P5\",6:\"P6\"}\n",
    "print(dictpl)"
   ]
  },
  {
   "cell_type": "code",
   "execution_count": 102,
   "metadata": {},
   "outputs": [
    {
     "name": "stdout",
     "output_type": "stream",
     "text": [
      "{1: 'P1', 2: 'P2', 3: 'P3', 4: 'P4', 5: 'P5', 6: 'P6', 9: 'Python'}\n"
     ]
    }
   ],
   "source": [
    "#Add Python to the dictionary with key 9\n",
    "dictpl.update({9:\"Python\"})\n",
    "print(dictpl)"
   ]
  },
  {
   "cell_type": "code",
   "execution_count": 103,
   "metadata": {},
   "outputs": [
    {
     "name": "stdout",
     "output_type": "stream",
     "text": [
      "(1, 'P1')\n",
      "(2, 'P2')\n",
      "(3, 'P3')\n",
      "(4, 'P4')\n",
      "(5, 'P5')\n",
      "(6, 'P6')\n",
      "(9, 'Python')\n"
     ]
    }
   ],
   "source": [
    "# Print, through an iteration, your dictionary;\n",
    "for item in dictpl.items():\n",
    "     print(item)"
   ]
  },
  {
   "cell_type": "code",
   "execution_count": 104,
   "metadata": {},
   "outputs": [
    {
     "name": "stdout",
     "output_type": "stream",
     "text": [
      "P1\n",
      "P2\n",
      "P3\n",
      "P4\n",
      "P5\n",
      "P6\n",
      "Python\n"
     ]
    }
   ],
   "source": [
    "# Print, through an iteration, all the values of your dictionary;\n",
    "for value in dictpl.values():\n",
    "     print(value)"
   ]
  },
  {
   "cell_type": "code",
   "execution_count": 105,
   "metadata": {},
   "outputs": [
    {
     "name": "stdout",
     "output_type": "stream",
     "text": [
      "1\n",
      "2\n",
      "3\n",
      "4\n",
      "5\n",
      "6\n",
      "9\n"
     ]
    }
   ],
   "source": [
    "# Print, through an iteration, all the keys of your dictionary;\n",
    "for key in dictpl.keys():\n",
    "     print(key)"
   ]
  },
  {
   "cell_type": "code",
   "execution_count": 106,
   "metadata": {},
   "outputs": [
    {
     "name": "stdout",
     "output_type": "stream",
     "text": [
      "{17, 10, 21, 6}\n"
     ]
    }
   ],
   "source": [
    "# Declare the set {10,21,6,17};\n",
    "A=set([10,21,6,17])\n",
    "print(A)"
   ]
  },
  {
   "cell_type": "code",
   "execution_count": 107,
   "metadata": {},
   "outputs": [
    {
     "name": "stdout",
     "output_type": "stream",
     "text": [
      "{8, 10, 20, 7}\n"
     ]
    }
   ],
   "source": [
    "# Declare the set {8,20,7,10};\n",
    "B=set([8,20,7,10])\n",
    "print(B)"
   ]
  },
  {
   "cell_type": "code",
   "execution_count": 108,
   "metadata": {},
   "outputs": [
    {
     "name": "stdout",
     "output_type": "stream",
     "text": [
      "{10}\n",
      "{6, 7, 8, 10, 17, 20, 21}\n"
     ]
    }
   ],
   "source": [
    "#Print the union and intersection of the first with the second set;\n",
    "result1=A.intersection(B)\n",
    "print(result1)\n",
    "result2=A.union(B)\n",
    "print(result2)"
   ]
  },
  {
   "cell_type": "code",
   "execution_count": 109,
   "metadata": {},
   "outputs": [
    {
     "name": "stdout",
     "output_type": "stream",
     "text": [
      "{8, 20, 7}\n"
     ]
    }
   ],
   "source": [
    "# Print the difference from the second to the first set\n",
    "result3=B.difference(A)\n",
    "print(result3)"
   ]
  },
  {
   "cell_type": "code",
   "execution_count": 110,
   "metadata": {},
   "outputs": [
    {
     "name": "stdout",
     "output_type": "stream",
     "text": [
      "{6, 7, 8, 17, 20, 21}\n"
     ]
    }
   ],
   "source": [
    "# Print the symmetrical difference of the two sets;\n",
    "result4=A.symmetric_difference(B)\n",
    "print(result4)"
   ]
  },
  {
   "cell_type": "code",
   "execution_count": 113,
   "metadata": {},
   "outputs": [
    {
     "name": "stdout",
     "output_type": "stream",
     "text": [
      "What is your age: 24\n",
      "You are 24 years old\n"
     ]
    }
   ],
   "source": [
    "# Create a function that returns an age\n",
    "def age1():\n",
    "    age1=int(input(\"What is your age: \"))\n",
    "    print(\"You are \" + str(age1) + \" years old\")\n",
    "age1()"
   ]
  },
  {
   "cell_type": "code",
   "execution_count": 119,
   "metadata": {},
   "outputs": [
    {
     "name": "stdout",
     "output_type": "stream",
     "text": [
      "What is your age: 24\n",
      "What is your name: José\n",
      "Hello José, you are 24 years old\n"
     ]
    }
   ],
   "source": [
    "#Create a function that asks the name and age of the user;\n",
    "def nameandage():\n",
    "    age2=int(input(\"What is your age: \"))\n",
    "    name2=str(input(\"What is your name: \"))\n",
    "    print(\"Hello \" + name2 + \", you are \" + str(age2) + \" years old\")\n",
    "nameandage()"
   ]
  },
  {
   "cell_type": "code",
   "execution_count": 132,
   "metadata": {},
   "outputs": [
    {
     "name": "stdout",
     "output_type": "stream",
     "text": [
      "Choose a number: 11\n",
      "Your chosen number is prime\n"
     ]
    }
   ],
   "source": [
    "# Create a function that calculates whether a number is prime;\n",
    "def prime():\n",
    "    a=int(input(\"Choose a number: \"))\n",
    "    for i in range (2,a):\n",
    "        if a%i==0:\n",
    "            print(\"Your chosen number is not a prime number\")\n",
    "            break\n",
    "    else:\n",
    "            print(\"Your chosen number is prime\")\n",
    "prime()"
   ]
  },
  {
   "cell_type": "code",
   "execution_count": 142,
   "metadata": {},
   "outputs": [
    {
     "name": "stdout",
     "output_type": "stream",
     "text": [
      "Choose a number: 50\n",
      "Divisor of 50 : 1\n",
      "Divisor of 50 : 2\n",
      "Divisor of 50 : 5\n",
      "Divisor of 50 : 10\n",
      "Divisor of 50 : 25\n",
      "Divisor of 50 : 50\n"
     ]
    }
   ],
   "source": [
    "#Create a function that calculates ALL the divisors of a number\n",
    "def divisor():\n",
    "    n=int(input(\"Choose a number: \"))\n",
    "    i=1\n",
    "    while i<=n:\n",
    "        if(n%i==0):\n",
    "            print(\"Divisor of \" + str(n) + \" : \" + str(i))\n",
    "        i = i + 1\n",
    "\n",
    "divisor()"
   ]
  },
  {
   "cell_type": "code",
   "execution_count": null,
   "metadata": {},
   "outputs": [],
   "source": []
  }
 ],
 "metadata": {
  "kernelspec": {
   "display_name": "Python 3",
   "language": "python",
   "name": "python3"
  },
  "language_info": {
   "codemirror_mode": {
    "name": "ipython",
    "version": 3
   },
   "file_extension": ".py",
   "mimetype": "text/x-python",
   "name": "python",
   "nbconvert_exporter": "python",
   "pygments_lexer": "ipython3",
   "version": "3.7.4"
  }
 },
 "nbformat": 4,
 "nbformat_minor": 2
}
