{
 "cells": [
  {
   "cell_type": "code",
   "execution_count": 2,
   "metadata": {},
   "outputs": [
    {
     "name": "stdout",
     "output_type": "stream",
     "text": [
      "My name isJosé\n"
     ]
    }
   ],
   "source": [
    "# Write \"My name is ___\" in Python;\n",
    "a= \"José\"\n",
    "print(\"My name is \" + a)"
   ]
  },
  {
   "cell_type": "code",
   "execution_count": 3,
   "metadata": {},
   "outputs": [
    {
     "name": "stdout",
     "output_type": "stream",
     "text": [
      "3\n"
     ]
    }
   ],
   "source": [
    "# Declare a variable a = 3 and print a;\n",
    "a=3\n",
    "print(a)"
   ]
  },
  {
   "cell_type": "code",
   "execution_count": 4,
   "metadata": {},
   "outputs": [
    {
     "name": "stdout",
     "output_type": "stream",
     "text": [
      "1.1\n"
     ]
    }
   ],
   "source": [
    "# Declare a variable b = 1.1 and print b;\n",
    "b=1.1\n",
    "print(b)"
   ]
  },
  {
   "cell_type": "code",
   "execution_count": 5,
   "metadata": {},
   "outputs": [
    {
     "name": "stdout",
     "output_type": "stream",
     "text": [
      "4.1\n"
     ]
    }
   ],
   "source": [
    "# Declare a variable c = a + b and print c;\n",
    "c=a+b\n",
    "print(c)"
   ]
  },
  {
   "cell_type": "code",
   "execution_count": 7,
   "metadata": {},
   "outputs": [
    {
     "data": {
      "text/plain": [
       "1591"
      ]
     },
     "execution_count": 7,
     "metadata": {},
     "output_type": "execute_result"
    }
   ],
   "source": [
    "# What is the result of the multiplication of 43 by 37?\n",
    "43*37"
   ]
  },
  {
   "cell_type": "code",
   "execution_count": 8,
   "metadata": {},
   "outputs": [
    {
     "data": {
      "text/plain": [
       "2"
      ]
     },
     "execution_count": 8,
     "metadata": {},
     "output_type": "execute_result"
    }
   ],
   "source": [
    "# What is the rest of dividing 71 by 3 ?\n",
    "71%3"
   ]
  },
  {
   "cell_type": "code",
   "execution_count": 10,
   "metadata": {},
   "outputs": [
    {
     "name": "stdout",
     "output_type": "stream",
     "text": [
      "Today is 30/12/2019\n"
     ]
    }
   ],
   "source": [
    "#Prints today's date;\n",
    "print(\"Today is %02d/%02d/%04d\" % (30,12,2019))"
   ]
  },
  {
   "cell_type": "code",
   "execution_count": 15,
   "metadata": {},
   "outputs": [
    {
     "data": {
      "text/plain": [
       "'midterm'"
      ]
     },
     "execution_count": 15,
     "metadata": {},
     "output_type": "execute_result"
    }
   ],
   "source": [
    "# Create the word \"midterm\" through concatenation;\n",
    "a=\"mid\"\n",
    "b=\"term\"\n",
    "c=a+b\n",
    "c"
   ]
  },
  {
   "cell_type": "code",
   "execution_count": 16,
   "metadata": {},
   "outputs": [
    {
     "data": {
      "text/plain": [
       "7"
      ]
     },
     "execution_count": 16,
     "metadata": {},
     "output_type": "execute_result"
    }
   ],
   "source": [
    "# Print the number of letters of the word created above;\n",
    "len(c)"
   ]
  },
  {
   "cell_type": "code",
   "execution_count": 17,
   "metadata": {},
   "outputs": [
    {
     "data": {
      "text/plain": [
       "'MIDTERM'"
      ]
     },
     "execution_count": 17,
     "metadata": {},
     "output_type": "execute_result"
    }
   ],
   "source": [
    "#Print the word above in capital letters;\n",
    "c.upper()"
   ]
  },
  {
   "cell_type": "code",
   "execution_count": 22,
   "metadata": {},
   "outputs": [
    {
     "name": "stdout",
     "output_type": "stream",
     "text": [
      "What is your age: 89\n",
      "You can retire\n"
     ]
    }
   ],
   "source": [
    "# Declares the variable age. Prints the message \"You can retire\" if your age is over 65;\n",
    "age=int(input(\"What is your age: \"))\n",
    "if age<=65:\n",
    "    print(\"You still have a few years of work\")\n",
    "else:\n",
    "    print(\"You can retire\")"
   ]
  },
  {
   "cell_type": "code",
   "execution_count": 35,
   "metadata": {},
   "outputs": [
    {
     "name": "stdout",
     "output_type": "stream",
     "text": [
      "What's your annual wage: 7000\n",
      "Your income tax rate is equal to 17%\n"
     ]
    }
   ],
   "source": [
    "#Declares the variable income corresponding to the annual wage. Print the following messages under the conditions:\n",
    "income=int(input(\"What's your annual wage: \"))\n",
    "if income<=8000:\n",
    "    print(\"Your income tax rate is equal to 17%\")\n",
    "else:\n",
    "    if income<=11000:\n",
    "        print(\"Your income tax rate is equal to 24%\")\n",
    "    else:\n",
    "        print(\"Your income tax rate is equal to 35%\")"
   ]
  },
  {
   "cell_type": "code",
   "execution_count": 38,
   "metadata": {},
   "outputs": [
    {
     "name": "stdout",
     "output_type": "stream",
     "text": [
      "27\n",
      "28\n",
      "29\n",
      "30\n",
      "31\n",
      "32\n",
      "33\n"
     ]
    }
   ],
   "source": [
    "# Prints all values between 27 and 33;\n",
    "for i in range(27,34):\n",
    "    print(i)"
   ]
  },
  {
   "cell_type": "code",
   "execution_count": 49,
   "metadata": {},
   "outputs": [
    {
     "name": "stdout",
     "output_type": "stream",
     "text": [
      "The divisor is: 10\n",
      "The rest is 3\n",
      "The divisor is: 9\n",
      "The rest is 3\n",
      "The divisor is: 8\n",
      "The rest is 5\n",
      "The divisor is: 7\n",
      "The rest is 2\n",
      "The divisor is: 6\n",
      "The rest is 3\n",
      "The divisor is: 5\n",
      "The rest is 3\n",
      "The divisor is: 4\n",
      "The rest is 1\n",
      "The divisor is: 3\n",
      "The rest is 0\n"
     ]
    }
   ],
   "source": [
    "#Declares the divisor variable = 10. While the remainder of the division between 93 and the divisor is different from 0 prints the divisor and decrements it ;\n",
    "divisor=11\n",
    "while 93%divisor!=0:\n",
    "    divisor-=1\n",
    "    print(\"The divisor is: \" + str(divisor))\n",
    "    print(\"The rest is \" + str(93%divisor))"
   ]
  },
  {
   "cell_type": "code",
   "execution_count": 50,
   "metadata": {},
   "outputs": [
    {
     "name": "stdout",
     "output_type": "stream",
     "text": [
      "['MAEG', 'Economics', 'Management', 'Finance', 'Econometrics']\n"
     ]
    }
   ],
   "source": [
    "# State a list with 5 UC's of your course;\n",
    "listUC=[\"MAEG\",\"Economics\",\"Management\",\"Finance\",\"Econometrics\"]\n",
    "print(listUC)"
   ]
  },
  {
   "cell_type": "code",
   "execution_count": 52,
   "metadata": {},
   "outputs": [
    {
     "name": "stdout",
     "output_type": "stream",
     "text": [
      "Management\n",
      "Econometrics\n"
     ]
    }
   ],
   "source": [
    "#Print the third and last UC of your list;\n",
    "print(listUC[2])\n",
    "print(listUC[4])"
   ]
  },
  {
   "cell_type": "code",
   "execution_count": 54,
   "metadata": {},
   "outputs": [
    {
     "name": "stdout",
     "output_type": "stream",
     "text": [
      "MAEG\n",
      "Economics\n",
      "Management\n",
      "Finance\n",
      "Econometrics\n"
     ]
    }
   ],
   "source": [
    "#Print, through an iteration, your list;\n",
    "for i in listUC:\n",
    "    print (i)"
   ]
  },
  {
   "cell_type": "code",
   "execution_count": 55,
   "metadata": {},
   "outputs": [
    {
     "name": "stdout",
     "output_type": "stream",
     "text": [
      "['MAEG', 'Management', 'Finance', 'Econometrics', 'Stochastic Calculus']\n"
     ]
    }
   ],
   "source": [
    "# Remove the second UC from your list and add another one\n",
    "listUC.remove(\"Economics\")\n",
    "listUC.append(\"Stochastic Calculus\")\n",
    "print(listUC)"
   ]
  },
  {
   "cell_type": "code",
   "execution_count": 58,
   "metadata": {},
   "outputs": [
    {
     "name": "stdout",
     "output_type": "stream",
     "text": [
      "[3, 6, 9, 12, 15, 18, 21]\n"
     ]
    }
   ],
   "source": [
    "# Create a list of the first 7 multiples of 3;\n",
    "multiples=[]\n",
    "for x in range(1,8):\n",
    "    multiples.append(3*x)\n",
    "print(multiples)"
   ]
  },
  {
   "cell_type": "code",
   "execution_count": 59,
   "metadata": {},
   "outputs": [
    {
     "name": "stdout",
     "output_type": "stream",
     "text": [
      "('MAEG', 'Economics', 'Management', 'Finance', 'Econometrics')\n"
     ]
    }
   ],
   "source": [
    "#Repeat the first line with a Tuple;\n",
    "listUC=(\"MAEG\",\"Economics\",\"Management\",\"Finance\",\"Econometrics\")\n",
    "print(listUC)"
   ]
  },
  {
   "cell_type": "code",
   "execution_count": 63,
   "metadata": {},
   "outputs": [
    {
     "name": "stdout",
     "output_type": "stream",
     "text": [
      "{1: 'P1', 2: 'P2', 3: 'P3', 4: 'P4', 5: 'P5', 6: 'P6'}\n"
     ]
    }
   ],
   "source": [
    "# Declares a dictionary with 6 programming languages excluding Python;\n",
    "dictpl={1:\"P1\",2:\"P2\",3:\"P3\",4:\"P4\",5:\"P5\",6:\"P6\"}\n",
    "print(dictpl)"
   ]
  },
  {
   "cell_type": "code",
   "execution_count": 64,
   "metadata": {},
   "outputs": [
    {
     "name": "stdout",
     "output_type": "stream",
     "text": [
      "{1: 'P1', 2: 'P2', 3: 'P3', 4: 'P4', 5: 'P5', 6: 'P6', 9: 'Python'}\n"
     ]
    }
   ],
   "source": [
    "#Add Python to the dictionary with key 9\n",
    "dictpl.update({9:\"Python\"})\n",
    "print(dictpl)"
   ]
  },
  {
   "cell_type": "code",
   "execution_count": 66,
   "metadata": {},
   "outputs": [
    {
     "name": "stdout",
     "output_type": "stream",
     "text": [
      "(1, 'P1')\n",
      "(2, 'P2')\n",
      "(3, 'P3')\n",
      "(4, 'P4')\n",
      "(5, 'P5')\n",
      "(6, 'P6')\n",
      "(9, 'Python')\n"
     ]
    }
   ],
   "source": [
    "# Print, through an iteration, your dictionary;\n",
    "for item in dictpl.items():\n",
    "     print(item)"
   ]
  },
  {
   "cell_type": "code",
   "execution_count": 67,
   "metadata": {},
   "outputs": [
    {
     "name": "stdout",
     "output_type": "stream",
     "text": [
      "P1\n",
      "P2\n",
      "P3\n",
      "P4\n",
      "P5\n",
      "P6\n",
      "Python\n"
     ]
    }
   ],
   "source": [
    "# Print, through an iteration, all the values of your dictionary;\n",
    "for value in dictpl.values():\n",
    "     print(value)"
   ]
  },
  {
   "cell_type": "code",
   "execution_count": 68,
   "metadata": {},
   "outputs": [
    {
     "name": "stdout",
     "output_type": "stream",
     "text": [
      "1\n",
      "2\n",
      "3\n",
      "4\n",
      "5\n",
      "6\n",
      "9\n"
     ]
    }
   ],
   "source": [
    "# Print, through an iteration, all the keys of your dictionary;\n",
    "for key in dictpl.keys():\n",
    "     print(key)"
   ]
  },
  {
   "cell_type": "code",
   "execution_count": 73,
   "metadata": {},
   "outputs": [
    {
     "name": "stdout",
     "output_type": "stream",
     "text": [
      "{17, 10, 21, 6}\n"
     ]
    }
   ],
   "source": [
    "# Declare the set {10,21,6,17};\n",
    "A=set([10,21,6,17])\n",
    "print(A)"
   ]
  },
  {
   "cell_type": "code",
   "execution_count": 74,
   "metadata": {},
   "outputs": [
    {
     "name": "stdout",
     "output_type": "stream",
     "text": [
      "{8, 10, 20, 7}\n"
     ]
    }
   ],
   "source": [
    "# Declare the set {8,20,7,10};\n",
    "B=set([8,20,7,10])\n",
    "print(B)"
   ]
  },
  {
   "cell_type": "code",
   "execution_count": 77,
   "metadata": {},
   "outputs": [
    {
     "name": "stdout",
     "output_type": "stream",
     "text": [
      "{10}\n",
      "{6, 7, 8, 10, 17, 20, 21}\n"
     ]
    }
   ],
   "source": [
    "#Print the union and intersection of the first with the second set;\n",
    "result1=A.intersection(B)\n",
    "print(result1)\n",
    "result2=A.union(B)\n",
    "print(result2)"
   ]
  },
  {
   "cell_type": "code",
   "execution_count": 79,
   "metadata": {},
   "outputs": [
    {
     "name": "stdout",
     "output_type": "stream",
     "text": [
      "{17, 21, 6}\n"
     ]
    }
   ],
   "source": [
    "# Print the difference from the second to the first set\n",
    "result3=B.difference(A)\n",
    "print(result3)"
   ]
  },
  {
   "cell_type": "code",
   "execution_count": 80,
   "metadata": {},
   "outputs": [
    {
     "name": "stdout",
     "output_type": "stream",
     "text": [
      "{6, 7, 8, 17, 20, 21}\n"
     ]
    }
   ],
   "source": [
    "# Print the symmetrical difference of the two sets;\n",
    "result4=A.symmetric_difference(B)\n",
    "print(result4)"
   ]
  },
  {
   "cell_type": "code",
   "execution_count": null,
   "metadata": {},
   "outputs": [],
   "source": []
  }
 ],
 "metadata": {
  "kernelspec": {
   "display_name": "Python 3",
   "language": "python",
   "name": "python3"
  },
  "language_info": {
   "codemirror_mode": {
    "name": "ipython",
    "version": 3
   },
   "file_extension": ".py",
   "mimetype": "text/x-python",
   "name": "python",
   "nbconvert_exporter": "python",
   "pygments_lexer": "ipython3",
   "version": "3.7.4"
  }
 },
 "nbformat": 4,
 "nbformat_minor": 2
}
